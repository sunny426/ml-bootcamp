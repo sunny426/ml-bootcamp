{
 "cells": [
  {
   "cell_type": "code",
   "execution_count": 9,
   "id": "c691d2eb-fcac-40be-9599-c6f1124f020d",
   "metadata": {},
   "outputs": [],
   "source": [
    "a= 10\n",
    "b= 20\n",
    "c= 30"
   ]
  },
  {
   "cell_type": "code",
   "execution_count": 10,
   "id": "1f09987d-39b7-433b-85cf-ee939f86bfb6",
   "metadata": {},
   "outputs": [
    {
     "name": "stdout",
     "output_type": "stream",
     "text": [
      "10\tqw\n"
     ]
    }
   ],
   "source": [
    "print(a,end=\"\\t\")\n",
    "print(\"qw\")"
   ]
  },
  {
   "cell_type": "code",
   "execution_count": 12,
   "id": "289177fb-abf2-4d5b-bd8b-f28d822e728d",
   "metadata": {},
   "outputs": [
    {
     "name": "stdout",
     "output_type": "stream",
     "text": [
      "10---20---30\n"
     ]
    }
   ],
   "source": [
    "print(a,b,c,sep=\"---\")"
   ]
  },
  {
   "cell_type": "code",
   "execution_count": 13,
   "id": "f7c9d983-bbb0-45c9-8eef-38d4a34ce247",
   "metadata": {},
   "outputs": [
    {
     "name": "stdin",
     "output_type": "stream",
     "text": [
      " sk\n"
     ]
    },
    {
     "data": {
      "text/plain": [
       "'sk'"
      ]
     },
     "execution_count": 13,
     "metadata": {},
     "output_type": "execute_result"
    }
   ],
   "source": [
    "input()"
   ]
  },
  {
   "cell_type": "code",
   "execution_count": 14,
   "id": "c4cb7911-bd52-413d-9f47-295091025be3",
   "metadata": {},
   "outputs": [
    {
     "name": "stdin",
     "output_type": "stream",
     "text": [
      "first number: 12\n"
     ]
    },
    {
     "data": {
      "text/plain": [
       "'12'"
      ]
     },
     "execution_count": 14,
     "metadata": {},
     "output_type": "execute_result"
    }
   ],
   "source": [
    "input(\"first number:\")"
   ]
  },
  {
   "cell_type": "code",
   "execution_count": 15,
   "id": "2b470e7e-f9a7-4b13-9387-0bed49e1ecd6",
   "metadata": {},
   "outputs": [
    {
     "name": "stdin",
     "output_type": "stream",
     "text": [
      "please write any number 34\n"
     ]
    }
   ],
   "source": [
    "x = input(\"please write any number\")"
   ]
  },
  {
   "cell_type": "code",
   "execution_count": 16,
   "id": "436c7377-9838-4f43-bfb4-24d6c7f96e61",
   "metadata": {},
   "outputs": [
    {
     "name": "stdout",
     "output_type": "stream",
     "text": [
      "34\n"
     ]
    }
   ],
   "source": [
    "print(x)"
   ]
  },
  {
   "cell_type": "code",
   "execution_count": 17,
   "id": "ad6f5858-dba8-428f-b1bd-7a1be19a9008",
   "metadata": {},
   "outputs": [
    {
     "data": {
      "text/plain": [
       "str"
      ]
     },
     "execution_count": 17,
     "metadata": {},
     "output_type": "execute_result"
    }
   ],
   "source": [
    "type(x)\n"
   ]
  },
  {
   "cell_type": "code",
   "execution_count": null,
   "id": "2030c4b1-79e2-404a-98ef-5349d0c3375f",
   "metadata": {},
   "outputs": [],
   "source": []
  }
 ],
 "metadata": {
  "kernelspec": {
   "display_name": "Python 3 (ipykernel)",
   "language": "python",
   "name": "python3"
  },
  "language_info": {
   "codemirror_mode": {
    "name": "ipython",
    "version": 3
   },
   "file_extension": ".py",
   "mimetype": "text/x-python",
   "name": "python",
   "nbconvert_exporter": "python",
   "pygments_lexer": "ipython3",
   "version": "3.10.6"
  }
 },
 "nbformat": 4,
 "nbformat_minor": 5
}
